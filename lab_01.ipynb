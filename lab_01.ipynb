{
 "cells": [
  {
   "cell_type": "code",
   "execution_count": 5,
   "id": "80667019",
   "metadata": {
    "scrolled": true
   },
   "outputs": [
    {
     "data": {
      "text/html": [
       "<style>.container { width:100% !important; }</style>"
      ],
      "text/plain": [
       "<IPython.core.display.HTML object>"
      ]
     },
     "metadata": {},
     "output_type": "display_data"
    },
    {
     "name": "stdout",
     "output_type": "stream",
     "text": [
      "The autoreload extension is already loaded. To reload it, use:\n",
      "  %reload_ext autoreload\n"
     ]
    }
   ],
   "source": [
    "   \"\"\" Resize the notbook to full width, to fit more code and images \"\"\"\n",
    "   from IPython.core.display import display, HTML\n",
    "   display(HTML(\"<style>.container { width:100% !important; }</style>\"))\n",
    "   \"\"\" some basic packages and settings to show images inline \"\"\"\n",
    "   import numpy as np\n",
    "   import importlib\n",
    "   %matplotlib inline\n",
    "   import matplotlib.pyplot as plt\n",
    "   \"\"\" automatically reload included modules (need to run import command to trigger reloading) \"\"\"\n",
    "   %load_ext autoreload\n",
    "   %autoreload 2\n",
    "   \"\"\" Controls for figure sizes to change \"\"\"\n",
    "   plt.rcParams['figure.dpi'] = 200\n",
    "   plt.rcParams['figure.figsize'] = [16, 8]\n",
    "   plt.rcParams.update({'errorbar.capsize': 1})\n",
    "\n"
   ]
  },
  {
   "cell_type": "code",
   "execution_count": 2,
   "id": "208b6af2",
   "metadata": {},
   "outputs": [],
   "source": [
    "from template import *\n"
   ]
  },
  {
   "cell_type": "markdown",
   "id": "06a71589",
   "metadata": {},
   "source": [
    "Test of Linear layer"
   ]
  },
  {
   "cell_type": "code",
   "execution_count": 3,
   "id": "66d42178",
   "metadata": {},
   "outputs": [],
   "source": [
    "lin = HiddenLinearLayer()"
   ]
  },
  {
   "cell_type": "code",
   "execution_count": 36,
   "id": "90af2975",
   "metadata": {},
   "outputs": [
    {
     "name": "stdout",
     "output_type": "stream",
     "text": [
      "[0.5 0.5]\n"
     ]
    },
    {
     "data": {
      "text/plain": [
       "array([[-0.50432629, -0.18064884],\n",
       "       [-0.48656582, -0.43099459],\n",
       "       [-0.46643994, -0.53938273],\n",
       "       [-0.37462169,  0.04571647],\n",
       "       [-0.50275226, -0.0866657 ]])"
      ]
     },
     "execution_count": 36,
     "metadata": {},
     "output_type": "execute_result"
    }
   ],
   "source": [
    "x = np.arange()\n",
    "lin.forward()"
   ]
  },
  {
   "cell_type": "code",
   "execution_count": 41,
   "id": "840978ff",
   "metadata": {},
   "outputs": [
    {
     "name": "stdout",
     "output_type": "stream",
     "text": [
      "[[-1.00865258 -0.36129768]\n",
      " [-0.97313164 -0.86198919]\n",
      " [-0.93287988 -1.07876546]\n",
      " [-0.74924338  0.09143294]\n",
      " [-1.00550452 -0.17333141]]\n"
     ]
    },
    {
     "data": {
      "text/plain": [
       "array([[0.        , 0.        ],\n",
       "       [0.        , 0.        ],\n",
       "       [0.        , 0.        ],\n",
       "       [0.        , 0.09143294],\n",
       "       [0.        , 0.        ]])"
      ]
     },
     "execution_count": 41,
     "metadata": {},
     "output_type": "execute_result"
    }
   ],
   "source": []
  },
  {
   "cell_type": "code",
   "execution_count": 52,
   "id": "7afd0d7c",
   "metadata": {},
   "outputs": [
    {
     "data": {
      "text/plain": [
       "array([[0, 0],\n",
       "       [0, 0],\n",
       "       [0, 0],\n",
       "       [0, 1],\n",
       "       [0, 0]])"
      ]
     },
     "execution_count": 52,
     "metadata": {},
     "output_type": "execute_result"
    }
   ],
   "source": []
  },
  {
   "cell_type": "code",
   "execution_count": 53,
   "id": "f0d9a430",
   "metadata": {},
   "outputs": [
    {
     "data": {
      "text/plain": [
       "array([[ 0.12312505, -1.36959979],\n",
       "       [-0.66741825,  0.45771649],\n",
       "       [-1.46212022,  0.26358548],\n",
       "       [ 0.80409543,  0.93496704],\n",
       "       [ 0.25647913, -0.22918808]])"
      ]
     },
     "execution_count": 53,
     "metadata": {},
     "output_type": "execute_result"
    }
   ],
   "source": []
  },
  {
   "cell_type": "code",
   "execution_count": 54,
   "id": "62f2913f",
   "metadata": {},
   "outputs": [
    {
     "data": {
      "text/plain": [
       "array([[ 0.        , -0.        ],\n",
       "       [-0.        ,  0.        ],\n",
       "       [-0.        ,  0.        ],\n",
       "       [ 0.        ,  0.93496704],\n",
       "       [ 0.        , -0.        ]])"
      ]
     },
     "execution_count": 54,
     "metadata": {},
     "output_type": "execute_result"
    }
   ],
   "source": [
    "\n"
   ]
  },
  {
   "cell_type": "code",
   "execution_count": 84,
   "id": "e5c48db1",
   "metadata": {},
   "outputs": [
    {
     "data": {
      "text/plain": [
       "array([[ 1,  2,  3,  4,  5],\n",
       "       [ 6,  7,  8,  9, 10]])"
      ]
     },
     "execution_count": 84,
     "metadata": {},
     "output_type": "execute_result"
    }
   ],
   "source": []
  },
  {
   "cell_type": "code",
   "execution_count": 92,
   "id": "cc0bc130",
   "metadata": {},
   "outputs": [
    {
     "data": {
      "text/plain": [
       "array([[-0.97971269,  0.40813205]])"
      ]
     },
     "execution_count": 92,
     "metadata": {},
     "output_type": "execute_result"
    }
   ],
   "source": [
    "x[0:1,:]"
   ]
  },
  {
   "cell_type": "code",
   "execution_count": 93,
   "id": "c0d43856",
   "metadata": {},
   "outputs": [
    {
     "data": {
      "text/plain": [
       "array([[ 1.46907962,  0.89749898,  0.32591834, -0.2456623 , -0.81724293]])"
      ]
     },
     "execution_count": 93,
     "metadata": {},
     "output_type": "execute_result"
    }
   ],
   "source": []
  },
  {
   "cell_type": "code",
   "execution_count": 109,
   "id": "7354be17",
   "metadata": {},
   "outputs": [
    {
     "data": {
      "text/plain": [
       "array([[-0.97971269,  0.40813205],\n",
       "       [ 0.92675003,  1.96362569],\n",
       "       [-2.49523212, -1.0864822 ],\n",
       "       [ 1.08514067,  0.30780262],\n",
       "       [ 0.4825422 ,  1.52691122],\n",
       "       [-0.34395061, -1.33802268],\n",
       "       [ 0.26525724, -0.84184335]])"
      ]
     },
     "execution_count": 109,
     "metadata": {},
     "output_type": "execute_result"
    }
   ],
   "source": []
  },
  {
   "cell_type": "code",
   "execution_count": 121,
   "id": "54991156",
   "metadata": {},
   "outputs": [
    {
     "name": "stdout",
     "output_type": "stream",
     "text": [
      "[[ 1  2  3  4  5]\n",
      " [ 6  7  8  9 10]]\n",
      "[[1 2]\n",
      " [3 4]]\n"
     ]
    },
    {
     "data": {
      "text/plain": [
       "array([[19, 23, 27, 31, 35],\n",
       "       [26, 32, 38, 44, 50]])"
      ]
     },
     "execution_count": 121,
     "metadata": {},
     "output_type": "execute_result"
    }
   ],
   "source": []
  },
  {
   "cell_type": "code",
   "execution_count": 125,
   "id": "c32ba871",
   "metadata": {},
   "outputs": [
    {
     "data": {
      "text/plain": [
       "array([ 2, -3])"
      ]
     },
     "execution_count": 125,
     "metadata": {},
     "output_type": "execute_result"
    }
   ],
   "source": []
  }
 ],
 "metadata": {
  "kernelspec": {
   "display_name": "Python 3",
   "language": "python",
   "name": "python3"
  },
  "language_info": {
   "codemirror_mode": {
    "name": "ipython",
    "version": 3
   },
   "file_extension": ".py",
   "mimetype": "text/x-python",
   "name": "python",
   "nbconvert_exporter": "python",
   "pygments_lexer": "ipython3",
   "version": "3.6.9"
  }
 },
 "nbformat": 4,
 "nbformat_minor": 5
}
